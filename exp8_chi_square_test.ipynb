{
  "cells": [
    {
      "cell_type": "markdown",
      "source": [
        "Experiment-8 chi square test on classification of flowers (on iris dataset)\n",
        "\n"
      ],
      "metadata": {
        "id": "vTsATBtIm32a"
      }
    },
    {
      "cell_type": "code",
      "execution_count": null,
      "metadata": {
        "_cell_guid": "b1076dfc-b9ad-4769-8c92-a6c4dae69d19",
        "_uuid": "8f2839f25d086af736a60e9eeb907d3b93b6e0e5",
        "id": "0W4Rv44klzyl"
      },
      "outputs": [],
      "source": [
        "\n",
        "import numpy as np # linear algebra\n",
        "import pandas as pd # data processing, CSV file I/O (e.g. pd.read_csv)\n",
        "\n",
        "import os\n",
        "for dirname, _, filenames in os.walk('/kaggle/input'):\n",
        "    for filename in filenames:\n",
        "        print(os.path.join(dirname, filename))\n",
        "\n",
        "# Any results you write to the current directory are saved as output."
      ]
    },
    {
      "cell_type": "markdown",
      "metadata": {
        "id": "V8f_PWU6lzyp"
      },
      "source": [
        "**Importing Packages**"
      ]
    },
    {
      "cell_type": "code",
      "execution_count": null,
      "metadata": {
        "_cell_guid": "79c7e3d0-c299-4dcb-8224-4455121ee9b0",
        "_uuid": "d629ff2d2480ee46fbb7e2d37f6b5fab8052498a",
        "id": "FjSXGPiGlzyr"
      },
      "outputs": [],
      "source": [
        "import pandas as pd\n",
        "import numpy as np\n",
        "import seaborn as sns\n",
        "import matplotlib.pyplot as plt\n",
        "from sklearn.preprocessing import StandardScaler, RobustScaler, MinMaxScaler\n",
        "from sklearn.model_selection import KFold\n",
        "from sklearn.ensemble import RandomForestClassifier\n",
        "from sklearn.svm import SVC\n",
        "from sklearn.tree import DecisionTreeClassifier\n",
        "from sklearn.naive_bayes import GaussianNB\n",
        "from sklearn.model_selection import cross_val_score\n",
        "from sklearn.neighbors import KNeighborsClassifier\n",
        "from sklearn.linear_model import LogisticRegression\n",
        "from sklearn.model_selection import GridSearchCV\n",
        "from scipy.stats import chi2_contingency,shapiro, fisher_exact\n",
        "import matplotlib.pyplot as plt\n",
        "from sklearn.metrics import accuracy_score, make_scorer\n",
        "from sklearn.model_selection import train_test_split\n",
        "from sklearn.pipeline import make_pipeline\n",
        "from sklearn.svm import SVC\n",
        "from statsmodels.multivariate.manova import MANOVA\n",
        "\n",
        "from scipy.stats import chi2\n",
        "\n",
        "import warnings\n",
        "warnings.filterwarnings('ignore')"
      ]
    },
    {
      "cell_type": "code",
      "execution_count": null,
      "metadata": {
        "colab": {
          "base_uri": "https://localhost:8080/"
        },
        "id": "-sysX8vllzys",
        "outputId": "1e9ef345-1fb4-49eb-dfcc-424775656e8e"
      },
      "outputs": [
        {
          "output_type": "stream",
          "name": "stdout",
          "text": [
            "<class 'pandas.core.frame.DataFrame'>\n",
            "Int64Index: 150 entries, 1 to 150\n",
            "Data columns (total 5 columns):\n",
            " #   Column         Non-Null Count  Dtype  \n",
            "---  ------         --------------  -----  \n",
            " 0   SepalLengthCm  150 non-null    float64\n",
            " 1   SepalWidthCm   150 non-null    float64\n",
            " 2   PetalLengthCm  150 non-null    float64\n",
            " 3   PetalWidthCm   150 non-null    float64\n",
            " 4   Species        150 non-null    object \n",
            "dtypes: float64(4), object(1)\n",
            "memory usage: 7.0+ KB\n"
          ]
        }
      ],
      "source": [
        "#load the dataset with index column as Id\n",
        "data = pd.read_csv('/content/Iris.csv', index_col=0) \n",
        "#checking if there is any inconsistency in the dataset\n",
        "data.info()\n"
      ]
    },
    {
      "cell_type": "code",
      "execution_count": null,
      "metadata": {
        "colab": {
          "base_uri": "https://localhost:8080/"
        },
        "id": "A95LHaOmlzyt",
        "outputId": "3597dc97-ffff-4749-f7f7-60ef6a0c8bcb"
      },
      "outputs": [
        {
          "output_type": "execute_result",
          "data": {
            "text/plain": [
              "pandas.core.frame.DataFrame"
            ]
          },
          "metadata": {},
          "execution_count": 6
        }
      ],
      "source": [
        "type(data)"
      ]
    },
    {
      "cell_type": "code",
      "execution_count": null,
      "metadata": {
        "colab": {
          "base_uri": "https://localhost:8080/",
          "height": 300
        },
        "id": "NDmsFHyTlzyt",
        "outputId": "2cf620a1-0ffd-4877-8a02-63d0ebc488ed"
      },
      "outputs": [
        {
          "output_type": "execute_result",
          "data": {
            "text/plain": [
              "       SepalLengthCm  SepalWidthCm  PetalLengthCm  PetalWidthCm\n",
              "count     150.000000    150.000000     150.000000    150.000000\n",
              "mean        5.843333      3.054000       3.758667      1.198667\n",
              "std         0.828066      0.433594       1.764420      0.763161\n",
              "min         4.300000      2.000000       1.000000      0.100000\n",
              "25%         5.100000      2.800000       1.600000      0.300000\n",
              "50%         5.800000      3.000000       4.350000      1.300000\n",
              "75%         6.400000      3.300000       5.100000      1.800000\n",
              "max         7.900000      4.400000       6.900000      2.500000"
            ],
            "text/html": [
              "\n",
              "  <div id=\"df-0da65d41-7e58-4e76-aa00-5d207e786fc0\">\n",
              "    <div class=\"colab-df-container\">\n",
              "      <div>\n",
              "<style scoped>\n",
              "    .dataframe tbody tr th:only-of-type {\n",
              "        vertical-align: middle;\n",
              "    }\n",
              "\n",
              "    .dataframe tbody tr th {\n",
              "        vertical-align: top;\n",
              "    }\n",
              "\n",
              "    .dataframe thead th {\n",
              "        text-align: right;\n",
              "    }\n",
              "</style>\n",
              "<table border=\"1\" class=\"dataframe\">\n",
              "  <thead>\n",
              "    <tr style=\"text-align: right;\">\n",
              "      <th></th>\n",
              "      <th>SepalLengthCm</th>\n",
              "      <th>SepalWidthCm</th>\n",
              "      <th>PetalLengthCm</th>\n",
              "      <th>PetalWidthCm</th>\n",
              "    </tr>\n",
              "  </thead>\n",
              "  <tbody>\n",
              "    <tr>\n",
              "      <th>count</th>\n",
              "      <td>150.000000</td>\n",
              "      <td>150.000000</td>\n",
              "      <td>150.000000</td>\n",
              "      <td>150.000000</td>\n",
              "    </tr>\n",
              "    <tr>\n",
              "      <th>mean</th>\n",
              "      <td>5.843333</td>\n",
              "      <td>3.054000</td>\n",
              "      <td>3.758667</td>\n",
              "      <td>1.198667</td>\n",
              "    </tr>\n",
              "    <tr>\n",
              "      <th>std</th>\n",
              "      <td>0.828066</td>\n",
              "      <td>0.433594</td>\n",
              "      <td>1.764420</td>\n",
              "      <td>0.763161</td>\n",
              "    </tr>\n",
              "    <tr>\n",
              "      <th>min</th>\n",
              "      <td>4.300000</td>\n",
              "      <td>2.000000</td>\n",
              "      <td>1.000000</td>\n",
              "      <td>0.100000</td>\n",
              "    </tr>\n",
              "    <tr>\n",
              "      <th>25%</th>\n",
              "      <td>5.100000</td>\n",
              "      <td>2.800000</td>\n",
              "      <td>1.600000</td>\n",
              "      <td>0.300000</td>\n",
              "    </tr>\n",
              "    <tr>\n",
              "      <th>50%</th>\n",
              "      <td>5.800000</td>\n",
              "      <td>3.000000</td>\n",
              "      <td>4.350000</td>\n",
              "      <td>1.300000</td>\n",
              "    </tr>\n",
              "    <tr>\n",
              "      <th>75%</th>\n",
              "      <td>6.400000</td>\n",
              "      <td>3.300000</td>\n",
              "      <td>5.100000</td>\n",
              "      <td>1.800000</td>\n",
              "    </tr>\n",
              "    <tr>\n",
              "      <th>max</th>\n",
              "      <td>7.900000</td>\n",
              "      <td>4.400000</td>\n",
              "      <td>6.900000</td>\n",
              "      <td>2.500000</td>\n",
              "    </tr>\n",
              "  </tbody>\n",
              "</table>\n",
              "</div>\n",
              "      <button class=\"colab-df-convert\" onclick=\"convertToInteractive('df-0da65d41-7e58-4e76-aa00-5d207e786fc0')\"\n",
              "              title=\"Convert this dataframe to an interactive table.\"\n",
              "              style=\"display:none;\">\n",
              "        \n",
              "  <svg xmlns=\"http://www.w3.org/2000/svg\" height=\"24px\"viewBox=\"0 0 24 24\"\n",
              "       width=\"24px\">\n",
              "    <path d=\"M0 0h24v24H0V0z\" fill=\"none\"/>\n",
              "    <path d=\"M18.56 5.44l.94 2.06.94-2.06 2.06-.94-2.06-.94-.94-2.06-.94 2.06-2.06.94zm-11 1L8.5 8.5l.94-2.06 2.06-.94-2.06-.94L8.5 2.5l-.94 2.06-2.06.94zm10 10l.94 2.06.94-2.06 2.06-.94-2.06-.94-.94-2.06-.94 2.06-2.06.94z\"/><path d=\"M17.41 7.96l-1.37-1.37c-.4-.4-.92-.59-1.43-.59-.52 0-1.04.2-1.43.59L10.3 9.45l-7.72 7.72c-.78.78-.78 2.05 0 2.83L4 21.41c.39.39.9.59 1.41.59.51 0 1.02-.2 1.41-.59l7.78-7.78 2.81-2.81c.8-.78.8-2.07 0-2.86zM5.41 20L4 18.59l7.72-7.72 1.47 1.35L5.41 20z\"/>\n",
              "  </svg>\n",
              "      </button>\n",
              "      \n",
              "  <style>\n",
              "    .colab-df-container {\n",
              "      display:flex;\n",
              "      flex-wrap:wrap;\n",
              "      gap: 12px;\n",
              "    }\n",
              "\n",
              "    .colab-df-convert {\n",
              "      background-color: #E8F0FE;\n",
              "      border: none;\n",
              "      border-radius: 50%;\n",
              "      cursor: pointer;\n",
              "      display: none;\n",
              "      fill: #1967D2;\n",
              "      height: 32px;\n",
              "      padding: 0 0 0 0;\n",
              "      width: 32px;\n",
              "    }\n",
              "\n",
              "    .colab-df-convert:hover {\n",
              "      background-color: #E2EBFA;\n",
              "      box-shadow: 0px 1px 2px rgba(60, 64, 67, 0.3), 0px 1px 3px 1px rgba(60, 64, 67, 0.15);\n",
              "      fill: #174EA6;\n",
              "    }\n",
              "\n",
              "    [theme=dark] .colab-df-convert {\n",
              "      background-color: #3B4455;\n",
              "      fill: #D2E3FC;\n",
              "    }\n",
              "\n",
              "    [theme=dark] .colab-df-convert:hover {\n",
              "      background-color: #434B5C;\n",
              "      box-shadow: 0px 1px 3px 1px rgba(0, 0, 0, 0.15);\n",
              "      filter: drop-shadow(0px 1px 2px rgba(0, 0, 0, 0.3));\n",
              "      fill: #FFFFFF;\n",
              "    }\n",
              "  </style>\n",
              "\n",
              "      <script>\n",
              "        const buttonEl =\n",
              "          document.querySelector('#df-0da65d41-7e58-4e76-aa00-5d207e786fc0 button.colab-df-convert');\n",
              "        buttonEl.style.display =\n",
              "          google.colab.kernel.accessAllowed ? 'block' : 'none';\n",
              "\n",
              "        async function convertToInteractive(key) {\n",
              "          const element = document.querySelector('#df-0da65d41-7e58-4e76-aa00-5d207e786fc0');\n",
              "          const dataTable =\n",
              "            await google.colab.kernel.invokeFunction('convertToInteractive',\n",
              "                                                     [key], {});\n",
              "          if (!dataTable) return;\n",
              "\n",
              "          const docLinkHtml = 'Like what you see? Visit the ' +\n",
              "            '<a target=\"_blank\" href=https://colab.research.google.com/notebooks/data_table.ipynb>data table notebook</a>'\n",
              "            + ' to learn more about interactive tables.';\n",
              "          element.innerHTML = '';\n",
              "          dataTable['output_type'] = 'display_data';\n",
              "          await google.colab.output.renderOutput(dataTable, element);\n",
              "          const docLink = document.createElement('div');\n",
              "          docLink.innerHTML = docLinkHtml;\n",
              "          element.appendChild(docLink);\n",
              "        }\n",
              "      </script>\n",
              "    </div>\n",
              "  </div>\n",
              "  "
            ]
          },
          "metadata": {},
          "execution_count": 7
        }
      ],
      "source": [
        "#Descriptive statistics\n",
        "#Summarize all numeric columns\n",
        "data.describe() \n",
        "\n"
      ]
    },
    {
      "cell_type": "code",
      "execution_count": null,
      "metadata": {
        "colab": {
          "base_uri": "https://localhost:8080/"
        },
        "id": "5aCzOP8alzyw",
        "outputId": "7c319553-1735-4ec4-b7e4-dad300cb7172"
      },
      "outputs": [
        {
          "output_type": "execute_result",
          "data": {
            "text/plain": [
              "Iris-setosa        50\n",
              "Iris-versicolor    50\n",
              "Iris-virginica     50\n",
              "Name: Species, dtype: int64"
            ]
          },
          "metadata": {},
          "execution_count": 12
        }
      ],
      "source": [
        "data['Species'].value_counts()"
      ]
    },
    {
      "cell_type": "code",
      "execution_count": null,
      "metadata": {
        "colab": {
          "base_uri": "https://localhost:8080/"
        },
        "id": "dlNkP_gTlzyw",
        "outputId": "6e00bc59-38e6-463e-8b74-03e0c0fd7ef3"
      },
      "outputs": [
        {
          "output_type": "stream",
          "name": "stdout",
          "text": [
            "SepalLengthCm   0.6856935123042507\n",
            "SepalWidthCm   0.1880040268456376\n",
            "PetalLengthCm   3.113179418344519\n",
            "PetalWidthCm   0.582414317673378\n"
          ]
        }
      ],
      "source": [
        "#Compute the featureswise variance i.e. measure of the spread of a distribution\n",
        "#The variance is the average of the squared deviations from the mean, i.e., var = mean(abs(x - x.mean())**2).\n",
        "\n",
        "for i in data.columns:\n",
        "    if i != 'Species':\n",
        "        print(i, ' ' , data[i].var())"
      ]
    },
    {
      "cell_type": "code",
      "execution_count": null,
      "metadata": {
        "colab": {
          "base_uri": "https://localhost:8080/"
        },
        "id": "TCKvHJrHlzyw",
        "outputId": "54fc7e32-134e-4a40-96c8-6d5b95334c5c"
      },
      "outputs": [
        {
          "output_type": "execute_result",
          "data": {
            "text/plain": [
              "Iris-setosa        50\n",
              "Iris-versicolor    50\n",
              "Iris-virginica     50\n",
              "Name: Species, dtype: int64"
            ]
          },
          "metadata": {},
          "execution_count": 14
        }
      ],
      "source": [
        "#checking if this is multiclass problem or binary classsification problem\n",
        "data['Species'].value_counts() \n"
      ]
    },
    {
      "cell_type": "code",
      "execution_count": null,
      "metadata": {
        "colab": {
          "base_uri": "https://localhost:8080/",
          "height": 175
        },
        "id": "1NutGGHLlzyx",
        "outputId": "1e07342d-2187-4e73-cef7-2023a2eec154"
      },
      "outputs": [
        {
          "output_type": "execute_result",
          "data": {
            "text/plain": [
              "               SepalLengthCm  SepalWidthCm  PetalLengthCm  PetalWidthCm\n",
              "SepalLengthCm       1.000000     -0.109369       0.871754      0.817954\n",
              "SepalWidthCm       -0.109369      1.000000      -0.420516     -0.356544\n",
              "PetalLengthCm       0.871754     -0.420516       1.000000      0.962757\n",
              "PetalWidthCm        0.817954     -0.356544       0.962757      1.000000"
            ],
            "text/html": [
              "\n",
              "  <div id=\"df-47ad5606-dec0-48ec-8ae1-cf2336b9b3fe\">\n",
              "    <div class=\"colab-df-container\">\n",
              "      <div>\n",
              "<style scoped>\n",
              "    .dataframe tbody tr th:only-of-type {\n",
              "        vertical-align: middle;\n",
              "    }\n",
              "\n",
              "    .dataframe tbody tr th {\n",
              "        vertical-align: top;\n",
              "    }\n",
              "\n",
              "    .dataframe thead th {\n",
              "        text-align: right;\n",
              "    }\n",
              "</style>\n",
              "<table border=\"1\" class=\"dataframe\">\n",
              "  <thead>\n",
              "    <tr style=\"text-align: right;\">\n",
              "      <th></th>\n",
              "      <th>SepalLengthCm</th>\n",
              "      <th>SepalWidthCm</th>\n",
              "      <th>PetalLengthCm</th>\n",
              "      <th>PetalWidthCm</th>\n",
              "    </tr>\n",
              "  </thead>\n",
              "  <tbody>\n",
              "    <tr>\n",
              "      <th>SepalLengthCm</th>\n",
              "      <td>1.000000</td>\n",
              "      <td>-0.109369</td>\n",
              "      <td>0.871754</td>\n",
              "      <td>0.817954</td>\n",
              "    </tr>\n",
              "    <tr>\n",
              "      <th>SepalWidthCm</th>\n",
              "      <td>-0.109369</td>\n",
              "      <td>1.000000</td>\n",
              "      <td>-0.420516</td>\n",
              "      <td>-0.356544</td>\n",
              "    </tr>\n",
              "    <tr>\n",
              "      <th>PetalLengthCm</th>\n",
              "      <td>0.871754</td>\n",
              "      <td>-0.420516</td>\n",
              "      <td>1.000000</td>\n",
              "      <td>0.962757</td>\n",
              "    </tr>\n",
              "    <tr>\n",
              "      <th>PetalWidthCm</th>\n",
              "      <td>0.817954</td>\n",
              "      <td>-0.356544</td>\n",
              "      <td>0.962757</td>\n",
              "      <td>1.000000</td>\n",
              "    </tr>\n",
              "  </tbody>\n",
              "</table>\n",
              "</div>\n",
              "      <button class=\"colab-df-convert\" onclick=\"convertToInteractive('df-47ad5606-dec0-48ec-8ae1-cf2336b9b3fe')\"\n",
              "              title=\"Convert this dataframe to an interactive table.\"\n",
              "              style=\"display:none;\">\n",
              "        \n",
              "  <svg xmlns=\"http://www.w3.org/2000/svg\" height=\"24px\"viewBox=\"0 0 24 24\"\n",
              "       width=\"24px\">\n",
              "    <path d=\"M0 0h24v24H0V0z\" fill=\"none\"/>\n",
              "    <path d=\"M18.56 5.44l.94 2.06.94-2.06 2.06-.94-2.06-.94-.94-2.06-.94 2.06-2.06.94zm-11 1L8.5 8.5l.94-2.06 2.06-.94-2.06-.94L8.5 2.5l-.94 2.06-2.06.94zm10 10l.94 2.06.94-2.06 2.06-.94-2.06-.94-.94-2.06-.94 2.06-2.06.94z\"/><path d=\"M17.41 7.96l-1.37-1.37c-.4-.4-.92-.59-1.43-.59-.52 0-1.04.2-1.43.59L10.3 9.45l-7.72 7.72c-.78.78-.78 2.05 0 2.83L4 21.41c.39.39.9.59 1.41.59.51 0 1.02-.2 1.41-.59l7.78-7.78 2.81-2.81c.8-.78.8-2.07 0-2.86zM5.41 20L4 18.59l7.72-7.72 1.47 1.35L5.41 20z\"/>\n",
              "  </svg>\n",
              "      </button>\n",
              "      \n",
              "  <style>\n",
              "    .colab-df-container {\n",
              "      display:flex;\n",
              "      flex-wrap:wrap;\n",
              "      gap: 12px;\n",
              "    }\n",
              "\n",
              "    .colab-df-convert {\n",
              "      background-color: #E8F0FE;\n",
              "      border: none;\n",
              "      border-radius: 50%;\n",
              "      cursor: pointer;\n",
              "      display: none;\n",
              "      fill: #1967D2;\n",
              "      height: 32px;\n",
              "      padding: 0 0 0 0;\n",
              "      width: 32px;\n",
              "    }\n",
              "\n",
              "    .colab-df-convert:hover {\n",
              "      background-color: #E2EBFA;\n",
              "      box-shadow: 0px 1px 2px rgba(60, 64, 67, 0.3), 0px 1px 3px 1px rgba(60, 64, 67, 0.15);\n",
              "      fill: #174EA6;\n",
              "    }\n",
              "\n",
              "    [theme=dark] .colab-df-convert {\n",
              "      background-color: #3B4455;\n",
              "      fill: #D2E3FC;\n",
              "    }\n",
              "\n",
              "    [theme=dark] .colab-df-convert:hover {\n",
              "      background-color: #434B5C;\n",
              "      box-shadow: 0px 1px 3px 1px rgba(0, 0, 0, 0.15);\n",
              "      filter: drop-shadow(0px 1px 2px rgba(0, 0, 0, 0.3));\n",
              "      fill: #FFFFFF;\n",
              "    }\n",
              "  </style>\n",
              "\n",
              "      <script>\n",
              "        const buttonEl =\n",
              "          document.querySelector('#df-47ad5606-dec0-48ec-8ae1-cf2336b9b3fe button.colab-df-convert');\n",
              "        buttonEl.style.display =\n",
              "          google.colab.kernel.accessAllowed ? 'block' : 'none';\n",
              "\n",
              "        async function convertToInteractive(key) {\n",
              "          const element = document.querySelector('#df-47ad5606-dec0-48ec-8ae1-cf2336b9b3fe');\n",
              "          const dataTable =\n",
              "            await google.colab.kernel.invokeFunction('convertToInteractive',\n",
              "                                                     [key], {});\n",
              "          if (!dataTable) return;\n",
              "\n",
              "          const docLinkHtml = 'Like what you see? Visit the ' +\n",
              "            '<a target=\"_blank\" href=https://colab.research.google.com/notebooks/data_table.ipynb>data table notebook</a>'\n",
              "            + ' to learn more about interactive tables.';\n",
              "          element.innerHTML = '';\n",
              "          dataTable['output_type'] = 'display_data';\n",
              "          await google.colab.output.renderOutput(dataTable, element);\n",
              "          const docLink = document.createElement('div');\n",
              "          docLink.innerHTML = docLinkHtml;\n",
              "          element.appendChild(docLink);\n",
              "        }\n",
              "      </script>\n",
              "    </div>\n",
              "  </div>\n",
              "  "
            ]
          },
          "metadata": {},
          "execution_count": 16
        }
      ],
      "source": [
        "#compute pairwise correlation of features\n",
        "data.corr()"
      ]
    },
    {
      "cell_type": "markdown",
      "metadata": {
        "id": "7rPhnkpQlzyy"
      },
      "source": [
        "Let's use chi-square test to understand relationship between categorical variables and target variable.\n",
        "\n",
        "\n",
        "**Assume Null hypothesys -**\n",
        "Ho: Variables A(SepalLengthCm/SepalWidthCm/PetalLengthCm/PetalLengthCm) and Variable B(Species) are independent.\n",
        "\n",
        "\n",
        "**Assume alternate hypothesys -**\n",
        "Ha: Variable A SepalLengthCm/SepalWidthCm/PetalLengthCm/PetalLengthCm)and Variable B(Species) are not independent.\n",
        "\n",
        "Significance level : 0.05"
      ]
    },
    {
      "cell_type": "code",
      "execution_count": null,
      "metadata": {
        "colab": {
          "base_uri": "https://localhost:8080/"
        },
        "id": "ABGQg004lzyy",
        "outputId": "6336e79c-4524-49c8-df7c-e485ab7f6bd9"
      },
      "outputs": [
        {
          "output_type": "stream",
          "name": "stdout",
          "text": [
            "Ho: Species and SepalLengthCm are not independent features\n",
            "Ha: Species and SepalLengthCm are independent features\n",
            "chi_squared_stat : 156.26666666666668\n",
            "Dependent : Reject Hypothesis 0 (null Hypothesis)\n",
            "Significance 0.050000000000000044, 6.665987344005466e-09\n",
            "Dependent : Reject Hypothesis 0 (null Hypothesis)\n"
          ]
        }
      ],
      "source": [
        "print('Ho: Species and SepalLengthCm are not independent features')\n",
        "print('Ha: Species and SepalLengthCm are independent features')\n",
        "\n",
        "chi_squared_stat, p_value, dof, expected=chi2_contingency(pd.crosstab(data['Species'], data['SepalLengthCm']))\n",
        "print(\"chi_squared_stat :\", chi_squared_stat)\n",
        "probability=0.95\n",
        "critical=chi2.ppf(probability, dof)\n",
        "if abs(chi_squared_stat)>=critical:\n",
        "    print('Dependent : Reject Hypothesis 0 (null Hypothesis)')\n",
        "elif abs(chi_squared_stat)<critical:\n",
        "    print('Inependent : Fail to Reject Hypothesis 0 (null Hypothesis)')\n",
        "    \n",
        "alpha = 1.0 - probability\n",
        "print('Significance {0}, {1}'.format(alpha, p_value))\n",
        "if p_value<=alpha:\n",
        "    print(\"Dependent : Reject Hypothesis 0 (null Hypothesis)\")\n",
        "else:\n",
        "    print('Inependent : Fail to Reject Hypothesis 0 (null Hypothesis)')\n",
        "        \n",
        "    print('================================================================')"
      ]
    },
    {
      "cell_type": "code",
      "execution_count": null,
      "metadata": {
        "colab": {
          "base_uri": "https://localhost:8080/"
        },
        "id": "ekP34XO6lzyy",
        "outputId": "84043072-a919-4b10-8086-029fe00c4f40"
      },
      "outputs": [
        {
          "output_type": "stream",
          "name": "stdout",
          "text": [
            "Ho: Species and SepalWidthCm are not independent features\n",
            "Ha: Species and SepalWidthCm are independent features\n",
            "chi_squared_stat : 88.36446886446886\n",
            "Dependent : Reject Hypothesis 0 (null Hypothesis)\n",
            "Significance 0.050000000000000044, 8.303947787862062e-05\n",
            "Dependent : Reject Hypothesis 0 (null Hypothesis)\n"
          ]
        }
      ],
      "source": [
        "print('Ho: Species and SepalWidthCm are not independent features')\n",
        "print('Ha: Species and SepalWidthCm are independent features')\n",
        "\n",
        "chi_squared_stat, p_value, dof, expected=chi2_contingency(pd.crosstab(data['Species'], data['SepalWidthCm']))\n",
        "print(\"chi_squared_stat :\", chi_squared_stat)\n",
        "probability=0.95\n",
        "critical=chi2.ppf(probability, dof)\n",
        "if abs(chi_squared_stat)>=critical:\n",
        "    print('Dependent : Reject Hypothesis 0 (null Hypothesis)')\n",
        "elif abs(chi_squared_stat)<critical:\n",
        "    print('Inependent : Fail to Reject Hypothesis 0 (null Hypothesis)')\n",
        "    \n",
        "alpha = 1.0 - probability\n",
        "print('Significance {0}, {1}'.format(alpha, p_value))\n",
        "if p_value<=alpha:\n",
        "    print(\"Dependent : Reject Hypothesis 0 (null Hypothesis)\")\n",
        "else:\n",
        "    print('Inependent : Fail to Reject Hypothesis 0 (null Hypothesis)')\n",
        "        \n",
        "    print('================================================================')"
      ]
    },
    {
      "cell_type": "code",
      "execution_count": null,
      "metadata": {
        "colab": {
          "base_uri": "https://localhost:8080/"
        },
        "id": "YbsMB8jplzyz",
        "outputId": "faa5ba0c-9eb7-4c72-e7c1-216e9d64fc03"
      },
      "outputs": [
        {
          "output_type": "stream",
          "name": "stdout",
          "text": [
            "Ho: Species and PetalLengthCm are not independent features\n",
            "Ha: Species and PetalLengthCm are independent features\n",
            "chi_squared_stat : 271.79999999999995\n",
            "Dependent : Reject Hypothesis 0 (null Hypothesis)\n",
            "Significance 0.050000000000000044, 1.1775672327529825e-21\n",
            "Dependent : Reject Hypothesis 0 (null Hypothesis)\n"
          ]
        }
      ],
      "source": [
        "print('Ho: Species and PetalLengthCm are not independent features')\n",
        "print('Ha: Species and PetalLengthCm are independent features')\n",
        "\n",
        "chi_squared_stat, p_value, dof, expected=chi2_contingency(pd.crosstab(data['Species'], data['PetalLengthCm']))\n",
        "print(\"chi_squared_stat :\", chi_squared_stat)\n",
        "probability=0.95\n",
        "critical=chi2.ppf(probability, dof)\n",
        "if abs(chi_squared_stat)>=critical:\n",
        "    print('Dependent : Reject Hypothesis 0 (null Hypothesis)')\n",
        "elif abs(chi_squared_stat)<critical:\n",
        "    print('Inependent : Fail to Reject Hypothesis 0 (null Hypothesis)')\n",
        "    \n",
        "alpha = 1.0 - probability\n",
        "print('Significance {0}, {1}'.format(alpha, p_value))\n",
        "if p_value<=alpha:\n",
        "    print(\"Dependent : Reject Hypothesis 0 (null Hypothesis)\")\n",
        "else:\n",
        "    print('Inependent : Fail to Reject Hypothesis 0 (null Hypothesis)')\n",
        "        \n",
        "    print('================================================================')"
      ]
    },
    {
      "cell_type": "code",
      "execution_count": null,
      "metadata": {
        "colab": {
          "base_uri": "https://localhost:8080/"
        },
        "id": "A5KHgIgElzyz",
        "outputId": "38a7c4ea-b429-4eb4-e26b-983ac0086132"
      },
      "outputs": [
        {
          "output_type": "stream",
          "name": "stdout",
          "text": [
            "Ho: Species and PetalWidthCm are not independent features\n",
            "Ha: Species and PetalWidthCm are independent features\n",
            "chi_squared_stat : 271.75\n",
            "Dependent : Reject Hypothesis 0 (null Hypothesis)\n",
            "Significance 0.050000000000000044, 2.1648103108815957e-35\n",
            "Dependent : Reject Hypothesis 0 (null Hypothesis)\n"
          ]
        }
      ],
      "source": [
        "print('Ho: Species and PetalWidthCm are not independent features')\n",
        "print('Ha: Species and PetalWidthCm are independent features')\n",
        "\n",
        "chi_squared_stat, p_value, dof, expected=chi2_contingency(pd.crosstab(data['Species'], data['PetalWidthCm']))\n",
        "print(\"chi_squared_stat :\", chi_squared_stat)\n",
        "probability=0.95\n",
        "critical=chi2.ppf(probability, dof)\n",
        "if abs(chi_squared_stat)>=critical:\n",
        "    print('Dependent : Reject Hypothesis 0 (null Hypothesis)')\n",
        "elif abs(chi_squared_stat)<critical:\n",
        "    print('Inependent : Fail to Reject Hypothesis 0 (null Hypothesis)')\n",
        "    \n",
        "alpha = 1.0 - probability\n",
        "print('Significance {0}, {1}'.format(alpha, p_value))\n",
        "if p_value<=alpha:\n",
        "    print(\"Dependent : Reject Hypothesis 0 (null Hypothesis)\")\n",
        "else:\n",
        "    print('Inependent : Fail to Reject Hypothesis 0 (null Hypothesis)')\n",
        "        \n",
        "    print('================================================================')"
      ]
    },
    {
      "cell_type": "markdown",
      "metadata": {
        "id": "bRSL-zHhlzyz"
      },
      "source": [
        "From above analysis, we can say that varibles A (SepalLengthCm/SepalWidthCm/PetalLengthCm/PetalLengthCm) and Variable B(Species) are dependent on each other"
      ]
    }
  ],
  "metadata": {
    "kernelspec": {
      "display_name": "Python 3",
      "language": "python",
      "name": "python3"
    },
    "language_info": {
      "codemirror_mode": {
        "name": "ipython",
        "version": 3
      },
      "file_extension": ".py",
      "mimetype": "text/x-python",
      "name": "python",
      "nbconvert_exporter": "python",
      "pygments_lexer": "ipython3",
      "version": "3.6.6"
    },
    "colab": {
      "provenance": []
    }
  },
  "nbformat": 4,
  "nbformat_minor": 0
}