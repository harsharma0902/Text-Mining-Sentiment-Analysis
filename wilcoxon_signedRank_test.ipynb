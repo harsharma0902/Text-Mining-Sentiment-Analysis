{
  "nbformat": 4,
  "nbformat_minor": 0,
  "metadata": {
    "colab": {
      "provenance": []
    },
    "kernelspec": {
      "name": "python3",
      "display_name": "Python 3"
    },
    "language_info": {
      "name": "python"
    }
  },
  "cells": [
    {
      "cell_type": "markdown",
      "source": [
        "Experiment-10 -> Wilcoxon signed rank test on iris dataset"
      ],
      "metadata": {
        "id": "PgadLhxu0uxX"
      }
    },
    {
      "cell_type": "markdown",
      "source": [
        "Wilcoxon signed-rank test is the non-parametric version of the paired T-test.\n",
        "\n",
        "The Wilcoxon signed-rank test tests the null hypothesis that two related paired samples come from the same distribution. "
      ],
      "metadata": {
        "id": "hF_AKOSY0-zU"
      }
    },
    {
      "cell_type": "markdown",
      "source": [
        "It is used to test whether or not there is a significant difference between two population means when the distribution of the differences between the two samples cannot be assumed to be normal"
      ],
      "metadata": {
        "id": "Eb3kBXOr2697"
      }
    },
    {
      "cell_type": "code",
      "source": [
        "import pandas as pd\n",
        "import scipy.stats as stats\n",
        "df = pd.read_csv('/content/Iris_Data.csv')"
      ],
      "metadata": {
        "id": "q2Sdq9FG0uad"
      },
      "execution_count": null,
      "outputs": []
    },
    {
      "cell_type": "code",
      "source": [
        "sepal_len_setosa = df.loc[df['species']=='Iris-setosa', 'sepal_length'].to_numpy()\n",
        "sepal_len_versicolor = df.loc[df['species']=='Iris-versicolor', 'sepal_length'].to_numpy()"
      ],
      "metadata": {
        "id": "yrmMIisO2XYN"
      },
      "execution_count": null,
      "outputs": []
    },
    {
      "cell_type": "code",
      "source": [
        "sepal_len_setosa"
      ],
      "metadata": {
        "colab": {
          "base_uri": "https://localhost:8080/"
        },
        "id": "GuwiHLUt6fAz",
        "outputId": "a8481b06-2943-4938-e56d-0a0a1fe8a7f2"
      },
      "execution_count": null,
      "outputs": [
        {
          "output_type": "execute_result",
          "data": {
            "text/plain": [
              "array([5.1, 4.9, 4.7, 4.6, 5. , 5.4, 4.6, 5. , 4.4, 4.9, 5.4, 4.8, 4.8,\n",
              "       4.3, 5.8, 5.7, 5.4, 5.1, 5.7, 5.1, 5.4, 5.1, 4.6, 5.1, 4.8, 5. ,\n",
              "       5. , 5.2, 5.2, 4.7, 4.8, 5.4, 5.2, 5.5, 4.9, 5. , 5.5, 4.9, 4.4,\n",
              "       5.1, 5. , 4.5, 4.4, 5. , 5.1, 4.8, 5.1, 4.6, 5.3, 5. ])"
            ]
          },
          "metadata": {},
          "execution_count": 15
        }
      ]
    },
    {
      "cell_type": "code",
      "source": [
        "sepal_len_versicolor"
      ],
      "metadata": {
        "colab": {
          "base_uri": "https://localhost:8080/"
        },
        "id": "efug5BOu6oZ9",
        "outputId": "36b5930c-ded0-43e4-f78a-6ff0fc57009d"
      },
      "execution_count": null,
      "outputs": [
        {
          "output_type": "execute_result",
          "data": {
            "text/plain": [
              "array([7. , 6.4, 6.9, 5.5, 6.5, 5.7, 6.3, 4.9, 6.6, 5.2, 5. , 5.9, 6. ,\n",
              "       6.1, 5.6, 6.7, 5.6, 5.8, 6.2, 5.6, 5.9, 6.1, 6.3, 6.1, 6.4, 6.6,\n",
              "       6.8, 6.7, 6. , 5.7, 5.5, 5.5, 5.8, 6. , 5.4, 6. , 6.7, 6.3, 5.6,\n",
              "       5.5, 5.5, 6.1, 5.8, 5. , 5.6, 5.7, 5.7, 6.2, 5.1, 5.7])"
            ]
          },
          "metadata": {},
          "execution_count": 17
        }
      ]
    },
    {
      "cell_type": "markdown",
      "source": [
        "Ho = no difference in the mean sepal_length of two groups iris-setosa and iris-versicolor\n",
        "\n",
        "Ha = Difference in the mean sepal_length of two groups iris-setosa and iris-versicolor"
      ],
      "metadata": {
        "id": "ae2pu3_M64wu"
      }
    },
    {
      "cell_type": "code",
      "execution_count": null,
      "metadata": {
        "colab": {
          "base_uri": "https://localhost:8080/"
        },
        "id": "eITCe1Gn0tC-",
        "outputId": "431763cb-2b0e-4c38-f6a5-c582e0f3d504"
      },
      "outputs": [
        {
          "output_type": "stream",
          "name": "stderr",
          "text": [
            "/usr/local/lib/python3.9/dist-packages/scipy/stats/_morestats.py:3414: UserWarning: Exact p-value calculation does not work if there are zeros. Switching to normal approximation.\n",
            "  warnings.warn(\"Exact p-value calculation does not work if there are \"\n"
          ]
        },
        {
          "output_type": "execute_result",
          "data": {
            "text/plain": [
              "WilcoxonResult(statistic=19.0, pvalue=3.479904217643913e-09)"
            ]
          },
          "metadata": {},
          "execution_count": 18
        }
      ],
      "source": [
        "#perform the Wilcoxon-Signed Rank Test\n",
        "stats.wilcoxon(sepal_len_setosa, sepal_len_versicolor)"
      ]
    },
    {
      "cell_type": "markdown",
      "source": [
        "Since p-value 3.47 is greater than 0.05 we can reject null hypothesis"
      ],
      "metadata": {
        "id": "mdu-pazd6uvh"
      }
    }
  ]
}
